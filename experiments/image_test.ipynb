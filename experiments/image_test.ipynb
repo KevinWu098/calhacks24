{
 "cells": [
  {
   "cell_type": "code",
   "execution_count": 2,
   "metadata": {},
   "outputs": [
    {
     "name": "stdout",
     "output_type": "stream",
     "text": [
      "Model loading time: 35.86 seconds\n",
      "Inference time: 0.87 seconds\n",
      "tensor([[0.9604, 0.9329, 0.8838,  ..., 3.0124, 2.9723, 2.9521],\n",
      "        [0.9210, 0.8995, 0.8606,  ..., 3.0149, 3.0122, 3.0109],\n",
      "        [0.8811, 0.8655, 0.8367,  ..., 3.0246, 3.0474, 3.0593],\n",
      "        ...,\n",
      "        [1.2284, 1.2265, 1.2226,  ..., 1.2699, 1.2819, 1.2882],\n",
      "        [1.2229, 1.2242, 1.2267,  ..., 1.2679, 1.2807, 1.2873],\n",
      "        [1.2168, 1.2224, 1.2334,  ..., 1.2655, 1.2757, 1.2811]],\n",
      "       device='cuda:0')\n",
      "tensor(3362.0781, device='cuda:0')\n"
     ]
    }
   ],
   "source": [
    "from PIL import Image\n",
    "import depth_pro\n",
    "\n",
    "import time\n",
    "\n",
    "# Record the start time\n",
    "start_time = time.time()\n",
    "\n",
    "# Load model and preprocessing transform\n",
    "model, transform = depth_pro.create_model_and_transforms(device=\"cuda\")\n",
    "model.eval()\n",
    "\n",
    "# Calculate and print the model loading time\n",
    "model_load_time = time.time() - start_time\n",
    "print(f\"Model loading time: {model_load_time:.2f} seconds\")\n",
    "\n",
    "start_time = time.time()\n",
    "# Load and preprocess an image.\n",
    "image, _, f_px = depth_pro.load_rgb(\"example.jpg\")\n",
    "image = transform(image)\n",
    "\n",
    "# Run inference.\n",
    "prediction = model.infer(image, f_px=f_px)\n",
    "depth = prediction[\"depth\"]  # Depth in [m].\n",
    "focallength_px = prediction[\"focallength_px\"]  # Focal length in pixels.\n",
    "\n",
    "# Calculate and print the inference time\n",
    "inference_time = time.time() - start_time\n",
    "print(f\"Inference time: {inference_time:.2f} seconds\")\n",
    "\n",
    "\n",
    "print(depth)\n",
    "print(focallength_px)\n"
   ]
  },
  {
   "cell_type": "code",
   "execution_count": 4,
   "metadata": {},
   "outputs": [
    {
     "name": "stdout",
     "output_type": "stream",
     "text": [
      "Inference time: 0.48 seconds\n",
      "tensor([[0.9604, 0.9329, 0.8838,  ..., 3.0124, 2.9723, 2.9521],\n",
      "        [0.9210, 0.8995, 0.8606,  ..., 3.0149, 3.0122, 3.0109],\n",
      "        [0.8811, 0.8655, 0.8367,  ..., 3.0246, 3.0474, 3.0593],\n",
      "        ...,\n",
      "        [1.2284, 1.2265, 1.2226,  ..., 1.2699, 1.2819, 1.2882],\n",
      "        [1.2229, 1.2242, 1.2267,  ..., 1.2679, 1.2807, 1.2873],\n",
      "        [1.2168, 1.2224, 1.2334,  ..., 1.2655, 1.2757, 1.2811]],\n",
      "       device='cuda:0')\n",
      "tensor(3362.0781, device='cuda:0')\n"
     ]
    }
   ],
   "source": [
    "start_time = time.time()\n",
    "# Load and preprocess an image.\n",
    "image, _, f_px = depth_pro.load_rgb(\"example.jpg\")\n",
    "image = transform(image)\n",
    "\n",
    "# Run inference.\n",
    "prediction = model.infer(image, f_px=f_px)\n",
    "depth = prediction[\"depth\"]  # Depth in [m].\n",
    "focallength_px = prediction[\"focallength_px\"]  # Focal length in pixels.\n",
    "\n",
    "# Calculate and print the inference time\n",
    "inference_time = time.time() - start_time\n",
    "print(f\"Inference time: {inference_time:.2f} seconds\")\n",
    "\n",
    "\n",
    "print(depth)\n",
    "print(focallength_px)"
   ]
  }
 ],
 "metadata": {
  "kernelspec": {
   "display_name": "calhacks",
   "language": "python",
   "name": "python3"
  },
  "language_info": {
   "codemirror_mode": {
    "name": "ipython",
    "version": 3
   },
   "file_extension": ".py",
   "mimetype": "text/x-python",
   "name": "python",
   "nbconvert_exporter": "python",
   "pygments_lexer": "ipython3",
   "version": "3.10.4"
  }
 },
 "nbformat": 4,
 "nbformat_minor": 2
}
